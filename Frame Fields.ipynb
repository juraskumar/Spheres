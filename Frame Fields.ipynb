{
 "cells": [
  {
   "cell_type": "markdown",
   "metadata": {},
   "source": [
    "# Frame Fields"
   ]
  },
  {
   "cell_type": "markdown",
   "metadata": {},
   "source": [
    "A quick course on differential geometry: Lightning Round. Given a point on the sphere and its initial direction of movement, we want to predict its path. From Gotta Pack Fast we know that the path must be a great circle i.e. a circle whose radius is equal to sphere radius. If in doubt run code 3 to see examples. But how to determine the great circle a particle moves in, given the initial position $\\vec{r}$ and direction of movement?"
   ]
  },
  {
   "cell_type": "markdown",
   "metadata": {},
   "source": [
    "Since we know it moves in a great circle(shown in red in the figure), it follows that the whole path is parametrised by an angle $\\Theta$ which increases over time. Thus the relevant 'velocity' like quantity turns out to be the rate of change of this angle say $\\Omega$. The axis of rotation is denoted by $\\vec{B}$. There are two vectors $\\vec{B}$ in the figure which are parallel but placed at different points. The vector $\\vec{r}$ is the position vector at the brginning. It is also called the Normal, $\\vec{N}$. The vector $\\vec{B}$ is called the Binormal. The initial direction of movement is given by the unit vector $\\vec{T}$ called the Tangent vector also drawn twice in the figure. The three vectors $\\{\\vec{T},\\vec{N},\\vec{B}\\}$ are called the Frame Field of the path when t=0.  "
   ]
  },
  {
   "cell_type": "markdown",
   "metadata": {},
   "source": [
    "![alt text](tempsnip.png \"Title\")"
   ]
  },
  {
   "cell_type": "markdown",
   "metadata": {},
   "source": [
    "The role of the Frame Field is to replace the X,Y and Z axes. The Frame Field act as a set of basis vectors for the sphere. When we start we already know $\\vec{N}$ and $\\vec{T}$. However it is easily shown that $\\vec{B}=\\vec{T}X\\vec{N}$. Once we have the Frame Field, we observe that placing the Frame Field at the origin as in the figure essentially looks like we have rotated the sphere so that the X,Y and Z axes are the N,T and B axes respectively. This gives us an important tool that of rotation. We want to find the rotation matrix that sends X-axis to N-axis, Y-axis to T-axis and Z-axis to B-axis. This matrix is the matrix whose columns are N,T and B. This is due to the 'Action on the Basis' theorem in Linear Algebra. Now notice that the great circle is just the matrix rotation acting on the unit circle: $x^2+y^2=1$. So because we know the angular velocity $\\Omega$, we simply compute the vector ($\\cos\\Omega t$,$\\sin\\Omega t$,$0$) and allow our matrix to act on it. The result is the position vector of our particle at time t!"
   ]
  },
  {
   "cell_type": "markdown",
   "metadata": {},
   "source": [
    "Thus we can computationally solve the problem of a free particle on the sphere efficiently."
   ]
  },
  {
   "cell_type": "code",
   "execution_count": null,
   "metadata": {},
   "outputs": [],
   "source": []
  }
 ],
 "metadata": {
  "kernelspec": {
   "display_name": "Python 3",
   "language": "python",
   "name": "python3"
  },
  "language_info": {
   "codemirror_mode": {
    "name": "ipython",
    "version": 3
   },
   "file_extension": ".py",
   "mimetype": "text/x-python",
   "name": "python",
   "nbconvert_exporter": "python",
   "pygments_lexer": "ipython3",
   "version": "3.7.4"
  }
 },
 "nbformat": 4,
 "nbformat_minor": 2
}
