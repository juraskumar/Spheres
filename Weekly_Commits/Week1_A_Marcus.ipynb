{
 "cells": [
  {
   "cell_type": "markdown",
   "metadata": {},
   "source": [
    "# Week 1 Progress Report\n",
    "## General Idea (Marcus)\n",
    "\n",
    "So basically my plan was to use pre-existing libraries for Spyder, and therefore that meant some \"arcade\" or game coding such as \"pygame\". Getting straight into this we have to to install some modules and also define some parameters (which are module-dependant). We will also need randomizer function for randomizing properties (within some set values)."
   ]
  },
  {
   "cell_type": "code",
   "execution_count": null,
   "metadata": {},
   "outputs": [],
   "source": [
    "import pygame\n",
    "import random\n",
    "import math\n",
    " \n",
    "# Define some colors\n",
    "BLACK = (0, 0, 0)\n",
    "WHITE = (255, 255, 255)\n",
    "SCREEN_WIDTH = 800\n",
    "SCREEN_HEIGHT = 200\n",
    "BALL_SIZE = 50\n",
    "MAX_SPEED=3\n",
    "BallCount=1"
   ]
  },
  {
   "cell_type": "markdown",
   "metadata": {},
   "source": [
    "Using Classes, which is like a pseudo-function and object at the same time, this lets us append these into an array. There are also properties which we can type into this, like positions, speed, modulus, angle etc."
   ]
  },
  {
   "cell_type": "code",
   "execution_count": null,
   "metadata": {},
   "outputs": [],
   "source": [
    "class Ball:\n",
    "#Class to keep track of properties\n",
    "    def __init__(self):\n",
    "        self.x = 0\n",
    "        self.y = 0\n",
    "        self.rate_x = 0\n",
    "        self.rate_y = 0\n",
    "        self.angle = 0\n",
    "        self.speed = 0"
   ]
  },
  {
   "cell_type": "markdown",
   "metadata": {},
   "source": [
    "We then define functions:"
   ]
  },
  {
   "cell_type": "code",
   "execution_count": null,
   "metadata": {},
   "outputs": [],
   "source": [
    "def make_ball():\n",
    "#Function to make a new, random ball.\n",
    "    ball = Ball()\n",
    "    # Starting position of the ball.\n",
    "    # Take into account the ball size so we don't spawn on the edge.\n",
    "    ball.x = random.randrange(BALL_SIZE, SCREEN_WIDTH - BALL_SIZE)\n",
    "    ball.y = random.randrange(BALL_SIZE, SCREEN_HEIGHT - BALL_SIZE)\n",
    " \n",
    "    # Velocities (rates) and direction of class\n",
    "    ball.rate_x = random.randrange(-MAX_SPEED,MAX_SPEED)\n",
    "    ball.rate_y = random.randrange(-MAX_SPEED,MAX_SPEED)\n",
    "    \n",
    "    # Calculate the Speed and Angle of the ball\n",
    "    ball.angle = math.atan2(ball.rate_y , ball.rate_x)\n",
    "    ball.speed = math.sqrt(ball.rate_x**2 + ball.rate_y**2)\n",
    "    \n",
    "    #Some printy bois to check\n",
    "    print(ball.angle)\n",
    "    print(ball.speed)\n",
    "    \n",
    "    return ball"
   ]
  },
  {
   "cell_type": "markdown",
   "metadata": {},
   "source": [
    "Now we need a loop function:"
   ]
  },
  {
   "cell_type": "code",
   "execution_count": 1,
   "metadata": {},
   "outputs": [],
   "source": [
    "def main():\n",
    "    # Initialise (Works without though)\n",
    "    pygame.init()\n",
    "    # Loop until the user clicks the close\n",
    "    done = False\n",
    "    # Close everything down\n",
    "    pygame.quit()\n",
    "    \n",
    "    # Set some variables\n",
    "    size = [SCREEN_WIDTH, SCREEN_HEIGHT]\n",
    "    screen = pygame.display.set_mode(size)\n",
    "    ball_list=[]\n",
    "    \n",
    "    # Optionally make 5 balls (you can comment this out)\n",
    "    for i in range(BallCount):\n",
    "        ball = make_ball()\n",
    "        ball_list.append(ball)\n",
    "        \n",
    "    # Main program loop\n",
    "    while not done:\n",
    "        # Event processing\n",
    "        for event in pygame.event.get():\n",
    "            if event.type == pygame.QUIT:\n",
    "                done = True\n",
    "            elif event.type == pygame.KEYDOWN:\n",
    "                # \"Spacebar\" spawns a new ball.\n",
    "                if event.key == pygame.K_SPACE:\n",
    "                    ball = make_ball()\n",
    "                    ball_list.append(ball)\n",
    " \n",
    "        # Logic\n",
    "        for ball in ball_list:\n",
    "            # Move the ball's center\n",
    "            ball.x += ball.rate_x\n",
    "            ball.y += ball.rate_y\n",
    " \n",
    "            # Bounce the ball if needed\n",
    "            if ball.y > SCREEN_HEIGHT - BALL_SIZE or ball.y < BALL_SIZE:\n",
    "                ball.rate_y *= -1\n",
    "            if ball.x > SCREEN_WIDTH - BALL_SIZE or ball.x < BALL_SIZE:\n",
    "                ball.rate_x *= -1\n",
    " \n",
    "        # Drawing the screen background\n",
    "        screen.fill(BLACK)\n",
    " \n",
    "        # Draw the balls\n",
    "        for ball in ball_list:\n",
    "            pygame.draw.circle(screen, WHITE, [ball.x, ball.y], BALL_SIZE)\n",
    " \n",
    "        # Limit to 60 frames per second FPS\n",
    "        pygame.time.Clock().tick(60)\n",
    " \n",
    "        # Go ahead and update the screen with what we've drawn.\n",
    "        pygame.display.flip()"
   ]
  },
  {
   "cell_type": "markdown",
   "metadata": {},
   "source": [
    "Executing loop (I dont know how this particular part works)"
   ]
  },
  {
   "cell_type": "code",
   "execution_count": null,
   "metadata": {},
   "outputs": [],
   "source": [
    "if __name__ == \"__main__\":\n",
    "    main()"
   ]
  }
 ],
 "metadata": {
  "kernelspec": {
   "display_name": "Python 3",
   "language": "python",
   "name": "python3"
  },
  "language_info": {
   "codemirror_mode": {
    "name": "ipython",
    "version": 3
   },
   "file_extension": ".py",
   "mimetype": "text/x-python",
   "name": "python",
   "nbconvert_exporter": "python",
   "pygments_lexer": "ipython3",
   "version": "3.7.4"
  }
 },
 "nbformat": 4,
 "nbformat_minor": 2
}
